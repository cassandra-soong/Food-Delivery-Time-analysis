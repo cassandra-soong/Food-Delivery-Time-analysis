{
 "cells": [
  {
   "cell_type": "code",
   "execution_count": 1,
   "id": "cb6f3b9c",
   "metadata": {},
   "outputs": [],
   "source": [
    "import pandas as pd\n",
    "import numpy as np\n",
    "import matplotlib.pyplot as plt"
   ]
  },
  {
   "cell_type": "code",
   "execution_count": 2,
   "id": "e44efb11",
   "metadata": {},
   "outputs": [
    {
     "data": {
      "text/html": [
       "<div>\n",
       "<style scoped>\n",
       "    .dataframe tbody tr th:only-of-type {\n",
       "        vertical-align: middle;\n",
       "    }\n",
       "\n",
       "    .dataframe tbody tr th {\n",
       "        vertical-align: top;\n",
       "    }\n",
       "\n",
       "    .dataframe thead th {\n",
       "        text-align: right;\n",
       "    }\n",
       "</style>\n",
       "<table border=\"1\" class=\"dataframe\">\n",
       "  <thead>\n",
       "    <tr style=\"text-align: right;\">\n",
       "      <th></th>\n",
       "      <th>ID</th>\n",
       "      <th>Delivery_person_ID</th>\n",
       "      <th>Delivery_person_Age</th>\n",
       "      <th>Delivery_person_Ratings</th>\n",
       "      <th>Restaurant_latitude</th>\n",
       "      <th>Restaurant_longitude</th>\n",
       "      <th>Delivery_location_latitude</th>\n",
       "      <th>Delivery_location_longitude</th>\n",
       "      <th>Type_of_order</th>\n",
       "      <th>Type_of_vehicle</th>\n",
       "      <th>Time_taken(min)</th>\n",
       "    </tr>\n",
       "  </thead>\n",
       "  <tbody>\n",
       "    <tr>\n",
       "      <th>0</th>\n",
       "      <td>4607</td>\n",
       "      <td>INDORES13DEL02</td>\n",
       "      <td>37</td>\n",
       "      <td>4.9</td>\n",
       "      <td>22.745049</td>\n",
       "      <td>75.892471</td>\n",
       "      <td>22.765049</td>\n",
       "      <td>75.912471</td>\n",
       "      <td>Snack</td>\n",
       "      <td>motorcycle</td>\n",
       "      <td>24</td>\n",
       "    </tr>\n",
       "    <tr>\n",
       "      <th>1</th>\n",
       "      <td>B379</td>\n",
       "      <td>BANGRES18DEL02</td>\n",
       "      <td>34</td>\n",
       "      <td>4.5</td>\n",
       "      <td>12.913041</td>\n",
       "      <td>77.683237</td>\n",
       "      <td>13.043041</td>\n",
       "      <td>77.813237</td>\n",
       "      <td>Snack</td>\n",
       "      <td>scooter</td>\n",
       "      <td>33</td>\n",
       "    </tr>\n",
       "    <tr>\n",
       "      <th>2</th>\n",
       "      <td>5D6D</td>\n",
       "      <td>BANGRES19DEL01</td>\n",
       "      <td>23</td>\n",
       "      <td>4.4</td>\n",
       "      <td>12.914264</td>\n",
       "      <td>77.678400</td>\n",
       "      <td>12.924264</td>\n",
       "      <td>77.688400</td>\n",
       "      <td>Drinks</td>\n",
       "      <td>motorcycle</td>\n",
       "      <td>26</td>\n",
       "    </tr>\n",
       "    <tr>\n",
       "      <th>3</th>\n",
       "      <td>7A6A</td>\n",
       "      <td>COIMBRES13DEL02</td>\n",
       "      <td>38</td>\n",
       "      <td>4.7</td>\n",
       "      <td>11.003669</td>\n",
       "      <td>76.976494</td>\n",
       "      <td>11.053669</td>\n",
       "      <td>77.026494</td>\n",
       "      <td>Buffet</td>\n",
       "      <td>motorcycle</td>\n",
       "      <td>21</td>\n",
       "    </tr>\n",
       "    <tr>\n",
       "      <th>4</th>\n",
       "      <td>70A2</td>\n",
       "      <td>CHENRES12DEL01</td>\n",
       "      <td>32</td>\n",
       "      <td>4.6</td>\n",
       "      <td>12.972793</td>\n",
       "      <td>80.249982</td>\n",
       "      <td>13.012793</td>\n",
       "      <td>80.289982</td>\n",
       "      <td>Snack</td>\n",
       "      <td>scooter</td>\n",
       "      <td>30</td>\n",
       "    </tr>\n",
       "  </tbody>\n",
       "</table>\n",
       "</div>"
      ],
      "text/plain": [
       "     ID Delivery_person_ID  Delivery_person_Age  Delivery_person_Ratings  \\\n",
       "0  4607     INDORES13DEL02                   37                      4.9   \n",
       "1  B379     BANGRES18DEL02                   34                      4.5   \n",
       "2  5D6D     BANGRES19DEL01                   23                      4.4   \n",
       "3  7A6A    COIMBRES13DEL02                   38                      4.7   \n",
       "4  70A2     CHENRES12DEL01                   32                      4.6   \n",
       "\n",
       "   Restaurant_latitude  Restaurant_longitude  Delivery_location_latitude  \\\n",
       "0            22.745049             75.892471                   22.765049   \n",
       "1            12.913041             77.683237                   13.043041   \n",
       "2            12.914264             77.678400                   12.924264   \n",
       "3            11.003669             76.976494                   11.053669   \n",
       "4            12.972793             80.249982                   13.012793   \n",
       "\n",
       "   Delivery_location_longitude Type_of_order Type_of_vehicle  Time_taken(min)  \n",
       "0                    75.912471        Snack      motorcycle                24  \n",
       "1                    77.813237        Snack         scooter                33  \n",
       "2                    77.688400       Drinks      motorcycle                26  \n",
       "3                    77.026494       Buffet      motorcycle                21  \n",
       "4                    80.289982        Snack         scooter                30  "
      ]
     },
     "execution_count": 2,
     "metadata": {},
     "output_type": "execute_result"
    }
   ],
   "source": [
    "delivery = pd.read_csv(\"fooddelivery.csv\")\n",
    "delivery.head()"
   ]
  },
  {
   "cell_type": "markdown",
   "id": "d112fb0e",
   "metadata": {},
   "source": [
    "### Relationship between delivery ratings and delivery time "
   ]
  },
  {
   "cell_type": "code",
   "execution_count": 3,
   "id": "46810589",
   "metadata": {},
   "outputs": [
    {
     "data": {
      "text/html": [
       "<div>\n",
       "<style scoped>\n",
       "    .dataframe tbody tr th:only-of-type {\n",
       "        vertical-align: middle;\n",
       "    }\n",
       "\n",
       "    .dataframe tbody tr th {\n",
       "        vertical-align: top;\n",
       "    }\n",
       "\n",
       "    .dataframe thead th {\n",
       "        text-align: right;\n",
       "    }\n",
       "</style>\n",
       "<table border=\"1\" class=\"dataframe\">\n",
       "  <thead>\n",
       "    <tr style=\"text-align: right;\">\n",
       "      <th></th>\n",
       "      <th>Time_taken(min)</th>\n",
       "    </tr>\n",
       "    <tr>\n",
       "      <th>Delivery_person_Ratings</th>\n",
       "      <th></th>\n",
       "    </tr>\n",
       "  </thead>\n",
       "  <tbody>\n",
       "    <tr>\n",
       "      <th>6.0</th>\n",
       "      <td>23.943396</td>\n",
       "    </tr>\n",
       "    <tr>\n",
       "      <th>5.0</th>\n",
       "      <td>25.531281</td>\n",
       "    </tr>\n",
       "    <tr>\n",
       "      <th>4.9</th>\n",
       "      <td>24.123136</td>\n",
       "    </tr>\n",
       "    <tr>\n",
       "      <th>4.8</th>\n",
       "      <td>24.025602</td>\n",
       "    </tr>\n",
       "    <tr>\n",
       "      <th>4.7</th>\n",
       "      <td>24.170540</td>\n",
       "    </tr>\n",
       "  </tbody>\n",
       "</table>\n",
       "</div>"
      ],
      "text/plain": [
       "                         Time_taken(min)\n",
       "Delivery_person_Ratings                 \n",
       "6.0                            23.943396\n",
       "5.0                            25.531281\n",
       "4.9                            24.123136\n",
       "4.8                            24.025602\n",
       "4.7                            24.170540"
      ]
     },
     "execution_count": 3,
     "metadata": {},
     "output_type": "execute_result"
    }
   ],
   "source": [
    "ratings = delivery.groupby(['Delivery_person_Ratings'])['Time_taken(min)'].mean().to_frame()\n",
    "ratings = ratings.sort_values(by=['Delivery_person_Ratings'], ascending=False)\n",
    "ratings.head()"
   ]
  },
  {
   "cell_type": "code",
   "execution_count": 4,
   "id": "d33ef301",
   "metadata": {},
   "outputs": [
    {
     "data": {
      "text/plain": [
       "Text(0.5, 1.0, 'Delivery ratings vs Average delivery time')"
      ]
     },
     "execution_count": 4,
     "metadata": {},
     "output_type": "execute_result"
    },
    {
     "data": {
      "image/png": "[encoded data removed]",
      "text/plain": [
       "<Figure size 500x400 with 1 Axes>"
      ]
     },
     "metadata": {},
     "output_type": "display_data"
    }
   ],
   "source": [
    "fig, ax = plt.subplots(figsize=(5,4))\n",
    "ax.scatter(ratings.index, ratings[\"Time_taken(min)\"])\n",
    "\n",
    "ax.set_xlabel(\"Ratings\")\n",
    "ax.set_ylabel(\"Time taken(mins)\")\n",
    "ax.set_title(\"Delivery ratings vs Average delivery time\")"
   ]
  },
  {
   "cell_type": "markdown",
   "id": "a001fe53",
   "metadata": {},
   "source": [
    "#### It can be seen that delivery riders who are rewarded with high ratings between 5 - 6 took about less than 26 minutes to deliver, while riders who took more than half an hour to deliver are rewarded with ratings between 2.5 - 4.5. "
   ]
  },
  {
   "cell_type": "markdown",
   "id": "3715ef13",
   "metadata": {},
   "source": [
    "### Average delivery time taken by different vehicle types"
   ]
  },
  {
   "cell_type": "code",
   "execution_count": 5,
   "id": "acb43d79",
   "metadata": {},
   "outputs": [
    {
     "data": {
      "text/html": [
       "<div>\n",
       "<style scoped>\n",
       "    .dataframe tbody tr th:only-of-type {\n",
       "        vertical-align: middle;\n",
       "    }\n",
       "\n",
       "    .dataframe tbody tr th {\n",
       "        vertical-align: top;\n",
       "    }\n",
       "\n",
       "    .dataframe thead th {\n",
       "        text-align: right;\n",
       "    }\n",
       "</style>\n",
       "<table border=\"1\" class=\"dataframe\">\n",
       "  <thead>\n",
       "    <tr style=\"text-align: right;\">\n",
       "      <th></th>\n",
       "      <th>Time_taken(min)</th>\n",
       "    </tr>\n",
       "    <tr>\n",
       "      <th>Type_of_vehicle</th>\n",
       "      <th></th>\n",
       "    </tr>\n",
       "  </thead>\n",
       "  <tbody>\n",
       "    <tr>\n",
       "      <th>motorcycle</th>\n",
       "      <td>27.605674</td>\n",
       "    </tr>\n",
       "    <tr>\n",
       "      <th>bicycle</th>\n",
       "      <td>26.426471</td>\n",
       "    </tr>\n",
       "    <tr>\n",
       "      <th>scooter</th>\n",
       "      <td>24.480754</td>\n",
       "    </tr>\n",
       "    <tr>\n",
       "      <th>electric_scooter</th>\n",
       "      <td>24.470110</td>\n",
       "    </tr>\n",
       "  </tbody>\n",
       "</table>\n",
       "</div>"
      ],
      "text/plain": [
       "                   Time_taken(min)\n",
       "Type_of_vehicle                   \n",
       "motorcycle               27.605674\n",
       "bicycle                  26.426471\n",
       "scooter                  24.480754\n",
       "electric_scooter         24.470110"
      ]
     },
     "execution_count": 5,
     "metadata": {},
     "output_type": "execute_result"
    }
   ],
   "source": [
    "vehicle = delivery.groupby(['Type_of_vehicle'])['Time_taken(min)'].mean().to_frame()\n",
    "vehicle = vehicle.sort_values(by=['Time_taken(min)'], ascending=False)\n",
    "vehicle.head()"
   ]
  },
  {
   "cell_type": "code",
   "execution_count": 6,
   "id": "d31c2333",
   "metadata": {},
   "outputs": [
    {
     "data": {
      "image/png": "[encoded data removed]",
      "text/plain": [
       "<Figure size 500x400 with 1 Axes>"
      ]
     },
     "metadata": {},
     "output_type": "display_data"
    }
   ],
   "source": [
    "fig, ax = plt.subplots(figsize=(5,4))\n",
    "\n",
    "ax.bar(x=vehicle.index,\n",
    "       height=vehicle[\"Time_taken(min)\"],\n",
    "       width=0.5\n",
    ")\n",
    "\n",
    "ax.set_title(\"Average delivery time taken vs Vehicle types\")\n",
    "ax.set_xlabel(\"Vehicle\")\n",
    "ax.set_ylabel(\"Average time taken (mins)\")\n",
    "ax.set_ylim(0, 35)\n",
    "plt.show()"
   ]
  },
  {
   "cell_type": "markdown",
   "id": "4af224ca",
   "metadata": {},
   "source": [
    "#### Without considering the distance travelled, delivery riders who are using electric scooter or scooter (presumably for a shorter distance) have similarly the lowest average delivery time. "
   ]
  },
  {
   "cell_type": "markdown",
   "id": "a2e42c64",
   "metadata": {},
   "source": [
    "### Number of orders based on type of order"
   ]
  },
  {
   "cell_type": "code",
   "execution_count": 7,
   "id": "0d1883b2",
   "metadata": {},
   "outputs": [
    {
     "data": {
      "text/html": [
       "<div>\n",
       "<style scoped>\n",
       "    .dataframe tbody tr th:only-of-type {\n",
       "        vertical-align: middle;\n",
       "    }\n",
       "\n",
       "    .dataframe tbody tr th {\n",
       "        vertical-align: top;\n",
       "    }\n",
       "\n",
       "    .dataframe thead th {\n",
       "        text-align: right;\n",
       "    }\n",
       "</style>\n",
       "<table border=\"1\" class=\"dataframe\">\n",
       "  <thead>\n",
       "    <tr style=\"text-align: right;\">\n",
       "      <th></th>\n",
       "      <th>Number of Orders</th>\n",
       "    </tr>\n",
       "    <tr>\n",
       "      <th>Type_of_order</th>\n",
       "      <th></th>\n",
       "    </tr>\n",
       "  </thead>\n",
       "  <tbody>\n",
       "    <tr>\n",
       "      <th>Buffet</th>\n",
       "      <td>11280</td>\n",
       "    </tr>\n",
       "    <tr>\n",
       "      <th>Drinks</th>\n",
       "      <td>11322</td>\n",
       "    </tr>\n",
       "    <tr>\n",
       "      <th>Meal</th>\n",
       "      <td>11458</td>\n",
       "    </tr>\n",
       "    <tr>\n",
       "      <th>Snack</th>\n",
       "      <td>11533</td>\n",
       "    </tr>\n",
       "  </tbody>\n",
       "</table>\n",
       "</div>"
      ],
      "text/plain": [
       "               Number of Orders\n",
       "Type_of_order                  \n",
       "Buffet                    11280\n",
       "Drinks                    11322\n",
       "Meal                      11458\n",
       "Snack                     11533"
      ]
     },
     "execution_count": 7,
     "metadata": {},
     "output_type": "execute_result"
    }
   ],
   "source": [
    "orders = delivery.groupby(['Type_of_order']).size().to_frame(name='Number of Orders')\n",
    "orders"
   ]
  },
  {
   "cell_type": "code",
   "execution_count": 8,
   "id": "602a3acd",
   "metadata": {},
   "outputs": [
    {
     "data": {
      "text/plain": [
       "Text(0.5, 1.0, 'Total orders based on type of order')"
      ]
     },
     "execution_count": 8,
     "metadata": {},
     "output_type": "execute_result"
    },
    {
     "data": {
      "image/png": "[encoded data removed]",
      "text/plain": [
       "<Figure size 500x400 with 1 Axes>"
      ]
     },
     "metadata": {},
     "output_type": "display_data"
    }
   ],
   "source": [
    "fig, ax = plt.subplots(figsize=(5,4))\n",
    "\n",
    "ax.pie(x=orders[\"Number of Orders\"],\n",
    "       startangle=180,\n",
    "       labels=[\"Buffet\", \"Drinks\", \"Meal\", \"Snack\"], \n",
    "       autopct='%1.1f%%' ,\n",
    "       explode=(0, 0, 0, .2)\n",
    "      )\n",
    "\n",
    "\n",
    "ax.set_title(\"Total orders based on type of order\")"
   ]
  },
  {
   "cell_type": "markdown",
   "id": "a53b06db",
   "metadata": {},
   "source": [
    "#### Snack was the most ordered delivery item"
   ]
  },
  {
   "cell_type": "code",
   "execution_count": null,
   "id": "3091b242",
   "metadata": {},
   "outputs": [],
   "source": []
  }
 ],
 "metadata": {
  "kernelspec": {
   "display_name": "Python 3 (ipykernel)",
   "language": "python",
   "name": "python3"
  },
  "language_info": {
   "codemirror_mode": {
    "name": "ipython",
    "version": 3
   },
   "file_extension": ".py",
   "mimetype": "text/x-python",
   "name": "python",
   "nbconvert_exporter": "python",
   "pygments_lexer": "ipython3",
   "version": "3.11.4"
  }
 },
 "nbformat": 4,
 "nbformat_minor": 5
}
